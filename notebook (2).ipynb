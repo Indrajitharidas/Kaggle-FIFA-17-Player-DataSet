{
  "metadata": {
    "kernelspec": {
      "display_name": "Python 3",
      "language": "python",
      "name": "python3"
    },
    "language_info": {
      "name": "python",
      "version": "3.6.1",
      "mimetype": "text/x-python",
      "codemirror_mode": {
        "name": "ipython",
        "version": 3
      },
      "pygments_lexer": "ipython3",
      "nbconvert_exporter": "python",
      "file_extension": ".py"
    }
  },
  "nbformat": 4,
  "cells": [
    {
      "outputs": [],
      "source": "We will use this dataset to make a super team. One loophole in the analysis is the 'no budget constraint'. But what the heck, clubs are already spending 100 millions on players. We will not decide the formation now, lets see what players we get and then we can use appropriate formation. So, this amazing dataset provides 50 attributes to play with.   \n  \nBelow are the assumptions:   \n1) We have unlimited money to buy them (May be in coming kernels we can put a budget constraint)  \n  \nUnlike **[Part I][1]** we will not use traditional moneyball but use clustering using a useful python package- SciKit Learn.  \n  \nAge and work rate will be taken into the consideration in this model (this is an upgrade as in [Part I][1] we did measure their impact)\n\nMethodology\n-----------------  \n1) We perform principal component analysis so that we get the most explainable components out of the numerous available features  \n2) Clustering is done on three data sets representing Defenders, Midfielders and Attackers  \n3) Once clustering is done, we select the cluster with maximum score (i.e. mean rating + rating std. deviation)\n4) Pick top players from the selected cluster\n\nMethodology can be improved, especially point (3) onwards. i would appreciate productive suggestions to improve selection of the team\n\n\n  [1]: https://www.kaggle.com/indrajit/making-a-super-team-i",
      "metadata": {
        "_execution_state": "idle",
        "_uuid": "3468f630cec02d97541f620fdf9e63680d9f81c2",
        "_cell_guid": "8c046ca9-9642-44eb-8219-3d1b2c940cea",
        "collapsed": false
      },
      "cell_type": "markdown",
      "execution_count": null
    },
    {
      "outputs": [],
      "source": "Preamble\n========  ",
      "metadata": {
        "_execution_state": "idle",
        "_uuid": "6f3cce5e64b6d80ec1b5a4f3e6d4762ad0f5a343",
        "_cell_guid": "5669ee9e-2cf1-42e4-b66c-71ec138d929e",
        "collapsed": false
      },
      "cell_type": "markdown",
      "execution_count": null
    },
    {
      "outputs": [],
      "source": "import numpy as np\nimport pandas as pd\nimport seaborn as sns\nimport matplotlib.pyplot as plt\nfrom mpl_toolkits.mplot3d import Axes3D\nimport matplotlib\n\nimport warnings; warnings.simplefilter('ignore')\n\ndf = pd.read_csv('../input/FullData.csv')\nNames = pd.read_csv('../input/PlayerNames.csv')\ndf.assign(Index=np.nan)\ndf['Index'] = [v.split('/')[2] for v in Names['url']]\ndel df['Nationality']\ndel df['National_Position']\ndel df['National_Kit']\ndf.head()",
      "metadata": {
        "_execution_state": "idle",
        "_uuid": "888872c22cacbb0dedb60afc1be01c2eb33996d5",
        "_cell_guid": "2e0a0bc8-f356-431d-b976-4f385489f37f",
        "collapsed": false,
        "trusted": false
      },
      "cell_type": "code",
      "execution_count": 1
    },
    {
      "outputs": [],
      "source": "Quantifying Age, Work Rate and BMI\n==================================  \nIn this section we shall quantify below characteristics for every player:  \n  \n1) **Age**  : Age from 24 to 28 shall be considered optimum. Player in this range will be given value '1' and remaining players will be given value '0'  \n  \n2) **Work Rate**  : Average work rate for all the preferred positions will be taken.  \na) High Work Rate: 10 Points  \nb) Low Work Rate: 0 Points  \nc) Medium Work Rate: 5 Points   \n  \n3) **BMI**  : Body mass Index will be calculate with height and weight. It will have similar quantification to that of Work Rate.  \n  \n",
      "metadata": {
        "_execution_state": "idle",
        "_uuid": "5f29090d9af6e42a2c22bc717d9c12725b4951c9",
        "_cell_guid": "d0bc8b96-b2c1-4893-bd3e-36f2e6d8585e",
        "collapsed": false
      },
      "cell_type": "markdown",
      "execution_count": null
    },
    {
      "outputs": [],
      "source": "# Work Rate Quantification\n#this can be done using for loop and if/else statement as well\nwork_rate_points = pd.DataFrame({'Work_Rate': df.Work_Rate.unique()})\nwork_rate_points['Work_Rate_Points'] = ['5','5','7.5','2.5','10','7.5','5','2.5','0']\ndf = df.merge(work_rate_points, on='Work_Rate', how='left')",
      "metadata": {
        "_execution_state": "idle",
        "_uuid": "3c40ccc72fe3315805d8241eb5274fafe834a5ed",
        "_cell_guid": "f37c3d6a-2af2-4b92-b004-8ace1fa40a1b",
        "collapsed": false,
        "trusted": false
      },
      "cell_type": "code",
      "execution_count": 2
    },
    {
      "outputs": [],
      "source": "# Age Quantification\nage_points = pd.DataFrame({'Age': df.Age.unique(), 'Age_Points': [0,0,1,0,0,1,1,1,0,1,0,0,0,0,0,0,0,0,0,0,0,0,0,0,0,0,0,0,0]})\ndf = df.merge(age_points, on='Age', how='left')",
      "metadata": {
        "_execution_state": "idle",
        "_uuid": "373ba32e1b073f5ec9419a96317f2e7153df84e3",
        "_cell_guid": "ba08105c-8a00-4c98-b84c-6b7af722f227",
        "collapsed": false,
        "trusted": false
      },
      "cell_type": "code",
      "execution_count": 3
    },
    {
      "outputs": [],
      "source": "# BMI Calculation\ndf['Weight'] = pd.DataFrame(df.Weight.str.split(' ',1).tolist())\ndf['Weight'] = df.Weight.astype(np.float)\ndf['Height'] = pd.DataFrame(df.Height.str.split(' ',1).tolist())\ndf['Height'] = df.Height.astype(np.float)\ndf['BMI'] = round(df.Weight*10000 / (df.Height * df.Height), 2)\n\ndf['BMI'][(df['BMI'] <= 18.5)] = 5\ndf['BMI'][(df['BMI'] > 18.5) & (df['BMI'] <= 25)] = 10\ndf['BMI'][(df['BMI'] > 25) & (df['BMI'] <= 30)] = 5\ndf['BMI'][(df['BMI'] > 30)] = 5",
      "metadata": {
        "_execution_state": "idle",
        "_uuid": "9fcd02d7b84343cdea70dd4b4c444bb5c04e630f",
        "_cell_guid": "108f1720-91b4-4ade-b9f1-51808dffebd5",
        "collapsed": false,
        "trusted": false
      },
      "cell_type": "code",
      "execution_count": 4
    },
    {
      "outputs": [],
      "source": "Scaling of the Data\n===================  ",
      "metadata": {
        "_execution_state": "idle",
        "_uuid": "5d64255a883fcc85634dcb23ed07e426c97fb80b",
        "_cell_guid": "04a24e93-d570-4257-b634-94a2dce25a08",
        "collapsed": false
      },
      "cell_type": "markdown",
      "execution_count": null
    },
    {
      "outputs": [],
      "source": "from sklearn.preprocessing import MinMaxScaler\nfrom sklearn import cluster\n\n#Making different datasets for defense, midfield and attack\n#Defense\nX_def_main = df[(df['Club_Position'] == 'CB') | (df['Club_Position'] == 'LCB') | (df['Club_Position'] == 'RCB') | (df['Club_Position'] == 'RB') | (df['Club_Position'] == 'LB') | (df['Club_Position'] == 'RWB') | (df['Club_Position'] == 'LWB')]\nX_def = X_def_main[['Weak_foot','Skill_Moves','Ball_Control','Dribbling','Marking','Sliding_Tackle','Standing_Tackle','Aggression','Reactions','Attacking_Position','Interceptions','Vision','Composure','Crossing','Short_Pass','Long_Pass','Acceleration','Speed','Stamina','Strength','Balance','Agility','Jumping','Heading','Shot_Power','Finishing','Long_Shots','Curve','Freekick_Accuracy','Penalties','Volleys','GK_Positioning','GK_Diving','GK_Kicking','GK_Handling','GK_Reflexes','Work_Rate_Points', 'Age_Points', 'BMI']]\nX_scaled_def = MinMaxScaler(feature_range=(0, 10)).fit_transform(X_def)\n#Midfield\nX_mid_main = df[(df['Club_Position'] == 'RCM') | (df['Club_Position'] == 'CAM') | (df['Club_Position'] == 'LCM') | (df['Club_Position'] == 'LM') | (df['Club_Position'] == 'LDM') | (df['Club_Position'] == 'RM') | (df['Club_Position'] == 'CDM') | (df['Club_Position'] == 'RDM') | (df['Club_Position'] == 'LAM') | (df['Club_Position'] == 'RAM')]\nX_mid = X_mid_main[['Weak_foot','Skill_Moves','Ball_Control','Dribbling','Marking','Sliding_Tackle','Standing_Tackle','Aggression','Reactions','Attacking_Position','Interceptions','Vision','Composure','Crossing','Short_Pass','Long_Pass','Acceleration','Speed','Stamina','Strength','Balance','Agility','Jumping','Heading','Shot_Power','Finishing','Long_Shots','Curve','Freekick_Accuracy','Penalties','Volleys','GK_Positioning','GK_Diving','GK_Kicking','GK_Handling','GK_Reflexes','Work_Rate_Points', 'Age_Points', 'BMI']]\nX_scaled_mid = MinMaxScaler(feature_range=(0, 10)).fit_transform(X_mid)\n#Attack\nX_att_main = df[(df['Club_Position'] == 'LW') | (df['Club_Position'] == 'RW') | (df['Club_Position'] == 'ST') | (df['Club_Position'] == 'RS') | (df['Club_Position'] == 'LF') | (df['Club_Position'] == 'LS') | (df['Club_Position'] == 'RF') | (df['Club_Position'] == 'CF')]\nX_att = X_att_main[['Weak_foot','Skill_Moves','Ball_Control','Dribbling','Marking','Sliding_Tackle','Standing_Tackle','Aggression','Reactions','Attacking_Position','Interceptions','Vision','Composure','Crossing','Short_Pass','Long_Pass','Acceleration','Speed','Stamina','Strength','Balance','Agility','Jumping','Heading','Shot_Power','Finishing','Long_Shots','Curve','Freekick_Accuracy','Penalties','Volleys','GK_Positioning','GK_Diving','GK_Kicking','GK_Handling','GK_Reflexes','Work_Rate_Points', 'Age_Points', 'BMI']]\nX_scaled_att = MinMaxScaler(feature_range=(0, 10)).fit_transform(X_att)",
      "metadata": {
        "_execution_state": "idle",
        "_uuid": "9a998a0374bfdfa9536e5ee947cbdc6be2217ff6",
        "_cell_guid": "fe7e2bea-cd17-4f5d-8c19-056709dd7015",
        "collapsed": false,
        "trusted": false
      },
      "cell_type": "code",
      "execution_count": 5
    },
    {
      "outputs": [],
      "source": "Principal components analysis & Clustering\n===================================  ",
      "metadata": {
        "_execution_state": "idle",
        "_uuid": "e043391cbf684720f8f7c7d3ecdec109c9914233",
        "_cell_guid": "1fefbd55-acf6-4389-85b0-40b3bf4c0ce1",
        "collapsed": false
      },
      "cell_type": "markdown",
      "execution_count": null
    },
    {
      "outputs": [],
      "source": "from sklearn.decomposition import PCA\nfrom sklearn.cluster import KMeans\n\n#defense\npca = PCA(n_components=3)\nX_r_def = pca.fit(X_scaled_def).transform(X_scaled_def)\nkmeans = KMeans(init='k-means++', n_clusters=8, n_init=10)\nkmeans.fit(X_r_def)\nlabel_color_def = [matplotlib.cm.spectral(float(i) /10) for i in kmeans.labels_]\nX_def_main['Cluster'] = kmeans.labels_\n\n#midfield\nX_r_mid = pca.fit(X_scaled_mid).transform(X_scaled_mid)\nkmeans = KMeans(init='k-means++', n_clusters=8, n_init=10)\nkmeans.fit(X_r_mid)\nlabel_color_mid = [matplotlib.cm.spectral(float(i) /10) for i in kmeans.labels_]\nX_mid_main['Cluster'] = kmeans.labels_\n\n#attack\nX_r_att = pca.fit(X_scaled_att).transform(X_scaled_att)\nkmeans = KMeans(init='k-means++', n_clusters=8, n_init=10)\nkmeans.fit(X_r_att)\nlabel_color_att = [matplotlib.cm.spectral(float(i) /10) for i in kmeans.labels_]\nX_att_main['Cluster'] = kmeans.labels_\n",
      "metadata": {
        "_execution_state": "idle",
        "_uuid": "8971df9dda791e2053ec9ec225479c761e9eb4cc",
        "_cell_guid": "54a100c4-680a-43a3-8011-3a2456413dbb",
        "collapsed": false,
        "trusted": false
      },
      "cell_type": "code",
      "execution_count": 6
    },
    {
      "outputs": [],
      "source": "Defenders\n====================  ",
      "metadata": {
        "_execution_state": "idle",
        "_uuid": "01c8312ce971733018e66224f3cc8653184c8e50",
        "_cell_guid": "977388d4-708c-43c8-b647-f082d286f409",
        "collapsed": false
      },
      "cell_type": "markdown",
      "execution_count": null
    },
    {
      "outputs": [],
      "source": "*Visualization of Clustering*",
      "metadata": {
        "_execution_state": "idle",
        "_uuid": "8a30f58292fee87d0214f12b9ba6d3eee067aa69",
        "_cell_guid": "f9946fe1-bcb4-446f-8b43-346349fcc38e",
        "collapsed": false
      },
      "cell_type": "markdown",
      "execution_count": null
    },
    {
      "outputs": [],
      "source": "fig = plt.figure()\nax = fig.add_subplot(111, projection='3d')\n\n#defense plot\nxs = X_r_def[:,0]\nys = X_r_def[:,1]\nzs = X_r_def[:,2]\nax = fig.add_subplot(111, projection='3d')\nax.scatter(xs, ys, zs, c=label_color_def)\n\nax.set_xlabel('PC I')\nax.set_ylabel('PC II')\nax.set_zlabel('PC III')\n\nplt.show()",
      "metadata": {
        "_execution_state": "idle",
        "_uuid": "9ae13e73688c119a948f56cce629926189f79726",
        "_cell_guid": "8e37610c-a320-4e42-ad57-2884b3fd2f5c",
        "collapsed": false,
        "trusted": false
      },
      "cell_type": "code",
      "execution_count": 7
    },
    {
      "outputs": [],
      "source": "check1 = X_def_main.groupby('Cluster', as_index=False).agg({'Rating': 'mean'})\ncheck2 = X_def_main.groupby('Cluster', as_index=False).agg({'Rating': 'std'})\ncheck1['Mean+Std'] = round(check1['Rating'] + check2['Rating'])\ncheck1",
      "metadata": {
        "_execution_state": "idle",
        "_uuid": "65b7d6547652cd2df1611ab2d13d39120348ef39",
        "_cell_guid": "e0a01206-577a-43f0-be40-fd725aa41ffc",
        "collapsed": false,
        "trusted": false
      },
      "cell_type": "code",
      "execution_count": 8
    },
    {
      "outputs": [],
      "source": "*We select Cluster: 6 as it has maximum score*",
      "metadata": {
        "_execution_state": "idle",
        "_uuid": "296c5db612feda5b9f1b948fc8d984cc432564be",
        "_cell_guid": "60c12759-999d-417b-b2cf-38adc68ba8ae",
        "collapsed": false
      },
      "cell_type": "markdown",
      "execution_count": null
    },
    {
      "outputs": [],
      "source": "#ss = X_def_main[(X_def_main['Cluster'] == 0) | (X_def_main['Cluster'] == 3) | (X_def_main['Cluster'] == 6) | (X_def_main['Cluster'] == 7)].sort_values('Rating', ascending = False)[:10]\nss = X_def_main[(X_def_main['Cluster'] == 6)].sort_values('Rating', ascending = False)[:10]\nsns.set(style=\"white\", context=\"talk\")\n\n# Set up the matplotlib figure\nf, ax = plt.subplots(1, 1, figsize=(10, 5), sharex=False)\n\nx = np.array(list(ss['Name']))\ny = np.array(list(ss['Rating']))\nsns.barplot(x, y, palette=sns.cubehelix_palette(7), ax=ax)\nax.set_ylabel(\"Rating\")\nplt.tight_layout(h_pad=5)\nplt.xticks(rotation=90)",
      "metadata": {
        "_execution_state": "idle",
        "_uuid": "4aec86f938bec13155c088585f2363807d762a40",
        "_cell_guid": "fee99faf-713f-44ee-afa0-573a5c4e7204",
        "collapsed": false,
        "trusted": false
      },
      "cell_type": "code",
      "execution_count": 9
    },
    {
      "outputs": [],
      "source": "Defense lineup  \n==============  \nCentral Defense:  \n-----------------------  \nMats Hummels  \nToby Alderweireld  \nJavi Martinez  \nMustafi  \nAzpilicueta  \n\nWing Backs:  \n----------------------  \nJordi Alba  \nCarvajal  \nSubstitues:  \n------------------  \nMarcelo  \nDavid Alaba  ",
      "metadata": {
        "_execution_state": "idle",
        "collapsed": false,
        "_cell_guid": "b15cd375-8508-4335-9024-a3d9d28d48fa",
        "_uuid": "fcfbec3fb45f4c63b5d0775c26f6517e97e72b99"
      },
      "cell_type": "markdown",
      "execution_count": null
    },
    {
      "outputs": [],
      "source": "Midfield\n==============  ",
      "metadata": {
        "_execution_state": "idle",
        "_uuid": "953189a6734d40384243c3a8cbd100266ce4b409",
        "_cell_guid": "5f7eac2a-d8f1-434c-b8dd-f14ab2455fd3",
        "collapsed": false
      },
      "cell_type": "markdown",
      "execution_count": null
    },
    {
      "outputs": [],
      "source": "*Visualization of Clusters*",
      "metadata": {
        "_execution_state": "idle",
        "_uuid": "8487adc272a3986f3f751f31a7892ed7edecc7a1",
        "_cell_guid": "232c3860-8225-494a-aa90-ad4cf690cb6e",
        "collapsed": false
      },
      "cell_type": "markdown",
      "execution_count": null
    },
    {
      "outputs": [],
      "source": "fig = plt.figure()\nax = fig.add_subplot(111, projection='3d')\n\n#defense plot\nxs = X_r_mid[:,0]\nys = X_r_mid[:,1]\nzs = X_r_mid[:,2]\nax = fig.add_subplot(111, projection='3d')\nax.scatter(xs, ys, zs, c=label_color_mid)\n\nax.set_xlabel('PC I')\nax.set_ylabel('PC II')\nax.set_zlabel('PC III')\n\nplt.show()",
      "metadata": {
        "_execution_state": "idle",
        "_uuid": "06a0eafdaa778f37a6b48f5eed794d4e15cf5369",
        "_cell_guid": "fef29541-83f7-40b3-8b1c-ae8de088b869",
        "collapsed": false,
        "trusted": false
      },
      "cell_type": "code",
      "execution_count": 10
    },
    {
      "outputs": [],
      "source": "check1 = X_mid_main.groupby('Cluster', as_index=False).agg({'Rating': 'mean'})\ncheck2 = X_mid_main.groupby('Cluster', as_index=False).agg({'Rating': 'std'})\ncheck1['Mean+Std'] = round(check1['Rating'] + check2['Rating'])\ncheck1",
      "metadata": {
        "_execution_state": "idle",
        "_uuid": "38720c805fc589210b49fbf6df23cf40824d43bb",
        "_cell_guid": "2351af05-939e-459d-b50b-8d15168015e3",
        "collapsed": false,
        "trusted": false
      },
      "cell_type": "code",
      "execution_count": 11
    },
    {
      "outputs": [],
      "source": "*We select Cluster: 5 as it has maximum score*",
      "metadata": {
        "_execution_state": "idle",
        "_uuid": "eac02450f105a655917e87e5bbc7cf9253d34204",
        "_cell_guid": "eedc1836-79d6-4234-b5f6-e3f9763808d4",
        "collapsed": false
      },
      "cell_type": "markdown",
      "execution_count": null
    },
    {
      "outputs": [],
      "source": "ss = X_mid_main[(X_mid_main['Cluster'] == 5)].sort_values('Rating', ascending = False)[:10]\nsns.set(style=\"white\", context=\"talk\")\n\n# Set up the matplotlib figure\nf, ax = plt.subplots(1, 1, figsize=(10, 5), sharex=False)\n\nx = np.array(list(ss['Name']))\ny = np.array(list(ss['Rating']))\nsns.barplot(x, y, palette=sns.cubehelix_palette(7), ax=ax)\nax.set_ylabel(\"Rating\")\nplt.tight_layout(h_pad=5)\nplt.xticks(rotation=90)",
      "metadata": {
        "_execution_state": "idle",
        "_uuid": "f0af207da06b68ba72a13e06db54b7d338f02dad",
        "_cell_guid": "85093031-6dab-4a6d-9581-5d12db8de996",
        "collapsed": false,
        "trusted": false
      },
      "cell_type": "code",
      "execution_count": 16
    },
    {
      "outputs": [],
      "source": "Midfield Lineup:  \n====================  \nAttacking Midfield:  \n-------------------------------  \nOzil  \nKevin De Bruyne  \nJames Rodriguez  \nDefensive Midfield:  \n-----------------------------  \nThiago  \nSubstitues:  \n------------------  \nThomas Muller  \nChristian Eriksen  \nRiyad Mahrez",
      "metadata": {
        "_execution_state": "idle",
        "collapsed": false,
        "_cell_guid": "33e3d86b-1b47-47f1-9dd2-5b75d6ebdf93",
        "_uuid": "351c13874f79cea46052be034d1bb99f8b3ffe15"
      },
      "cell_type": "markdown",
      "execution_count": null
    },
    {
      "outputs": [],
      "source": "Attack\n===============  ",
      "metadata": {
        "_execution_state": "idle",
        "_uuid": "0e2c3292d7108d425bce21e0c5827fc3b10285e3",
        "_cell_guid": "e003e91b-5588-425a-9ef9-f8109b0b19ae",
        "collapsed": false
      },
      "cell_type": "markdown",
      "execution_count": null
    },
    {
      "outputs": [],
      "source": "fig = plt.figure()\nax = fig.add_subplot(111, projection='3d')\n\n#attack plot\nxs = X_r_att[:,0]\nys = X_r_att[:,1]\nzs = X_r_att[:,2]\nax = fig.add_subplot(111, projection='3d')\nax.scatter(xs, ys, zs, c=label_color_att)\n\nax.set_xlabel('PC I')\nax.set_ylabel('PC II')\nax.set_zlabel('PC III')\n\nplt.show()",
      "metadata": {
        "_execution_state": "idle",
        "_uuid": "14487500878c4c80740bfe228c07431f1ba859b6",
        "_cell_guid": "f8f42ffc-3651-456b-969f-a088d2a5b6e8",
        "collapsed": false,
        "trusted": false
      },
      "cell_type": "code",
      "execution_count": 13
    },
    {
      "outputs": [],
      "source": "check1 = X_att_main.groupby('Cluster', as_index=False).agg({'Rating': 'mean'})\ncheck2 = X_att_main.groupby('Cluster', as_index=False).agg({'Rating': 'std'})\ncheck1['Mean+Std'] = round(check1['Rating'] + check2['Rating'])\ncheck1",
      "metadata": {
        "_execution_state": "idle",
        "_uuid": "47d5cd31272f22f91116a806e4e3c0d232a15e81",
        "_cell_guid": "9be3cdff-6585-42c4-8eff-a8008e1c5803",
        "collapsed": false,
        "trusted": false
      },
      "cell_type": "code",
      "execution_count": 14
    },
    {
      "outputs": [],
      "source": "*We select Cluster: 2 as it has maximum score*",
      "metadata": {
        "_execution_state": "idle",
        "_uuid": "92be7f639fc8787c4dede2b5757959fdd1fa0296",
        "_cell_guid": "4ce2e3df-9548-4aa0-95a3-4765736e9b9e",
        "collapsed": false
      },
      "cell_type": "markdown",
      "execution_count": null
    },
    {
      "outputs": [],
      "source": "ss = X_att_main[(X_att_main['Cluster'] == 2)].sort_values('Rating', ascending = False)[:10]\nsns.set(style=\"white\", context=\"talk\")\n\n# Set up the matplotlib figure\nf, ax = plt.subplots(1, 1, figsize=(10, 5), sharex=False)\n\nx = np.array(list(ss['Name']))\ny = np.array(list(ss['Rating']))\nsns.barplot(x, y, palette=sns.cubehelix_palette(7), ax=ax)\nax.set_ylabel(\"Rating\")\nplt.tight_layout(h_pad=5)\nplt.xticks(rotation=90)",
      "metadata": {
        "_execution_state": "idle",
        "_uuid": "ccdb33bbf02c052ce210e405865572f05eb4c91e",
        "_cell_guid": "c4b5eef3-c691-49cc-a1e7-334507ab5f2f",
        "collapsed": false,
        "trusted": false
      },
      "cell_type": "code",
      "execution_count": 17
    },
    {
      "outputs": [],
      "source": "Attacking Lineup:  \n===================  \nChristiano Ronaldo  \nLionel Messi  \nLuiz Suarez  \nSubstitues:  \n--------------------  \nZlatan Ibrahimovic  \nGonzalo Higuain  \nAngel Di Maria",
      "metadata": {
        "_execution_state": "idle",
        "_uuid": "2877ef443ca9b3981c8d425318df12002f2a3bdf",
        "_cell_guid": "7e2c6788-59bd-410f-be21-d13cf0bf87f5",
        "collapsed": false
      },
      "cell_type": "markdown",
      "execution_count": 15
    }
  ],
  "nbformat_minor": 0
}